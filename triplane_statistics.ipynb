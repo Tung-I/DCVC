{
 "cells": [
  {
   "cell_type": "code",
   "execution_count": null,
   "id": "4fd91cbf",
   "metadata": {},
   "outputs": [],
   "source": [
    "from PLAS.plas import sort_with_plas"
   ]
  },
  {
   "cell_type": "code",
   "execution_count": null,
   "id": "83d6eb71",
   "metadata": {
    "vscode": {
     "languageId": "plaintext"
    }
   },
   "outputs": [],
   "source": [
    "root_dir = \"/work/pi_rsitaram_umass_edu/tungi/DCVC/logs/out_triplane\"\n",
    "cls_name = \"flame_steak\""
   ]
  },
  {
   "cell_type": "code",
   "execution_count": null,
   "id": "6f738b34",
   "metadata": {
    "vscode": {
     "languageId": "plaintext"
    }
   },
   "outputs": [],
   "source": [
    "def sort_image(img_path, shuffle):\n",
    "\n",
    "    if torch.backends.mps.is_available():\n",
    "        device = torch.device(\"mps\")\n",
    "    elif torch.cuda.is_available():\n",
    "        device = torch.device(\"cuda\")\n",
    "    else:\n",
    "        device = \"cpu\"\n",
    "\n",
    "    print(f\"Using device: {device}\")\n",
    "\n",
    "    # Read an image and put it on the GPU\n",
    "    image = Image.open(img_path).convert(\"RGB\")\n",
    "    tensor_image = torchvision.transforms.ToTensor()(image).to(device)\n",
    "\n",
    "    # Currently only support square images, so\n",
    "    sidelen = int(math.sqrt(tensor_image.shape[1] * tensor_image.shape[2]))\n",
    "\n",
    "    # truncate the image\n",
    "    img_trunc = tensor_image.flatten(start_dim=1)[:, :sidelen * sidelen]\n",
    "\n",
    "    # TODO: not really a useful vad with the truncated reshaped image\n",
    "    # -> fix after supporting non-square images\n",
    "    vad_img_trunc = compute_vad(img_trunc.reshape(-1, sidelen, sidelen).permute(1, 2, 0).cpu().numpy() * 255)\n",
    "\n",
    "    if shuffle:\n",
    "        # shuffle the image to avoid local minimum\n",
    "        img_trunc = img_trunc[:, torch.randperm(sidelen * sidelen)]\n",
    "\n",
    "        # TODO: see above for non-square images\n",
    "        vad_img_trunc_shuf = compute_vad(img_trunc.reshape(-1, sidelen, sidelen).permute(1, 2, 0).cpu().numpy() * 255)\n",
    "\n",
    "    # reshape the image to be a square\n",
    "    img_trunc_shuf_sq = img_trunc.reshape(-1, sidelen, sidelen)\n",
    "\n",
    "    sorted_img, grid_indices = sort_with_plas(img_trunc_shuf_sq, improvement_break=1e-4, border_type_x=\"reflect\", border_type_y=\"reflect\", verbose=True)\n",
    "\n",
    "    output_file = os.path.basename(img_path).split(\".\")[0]\n",
    "    if shuffle:\n",
    "        output_file += \"_shuffled\"\n",
    "    output_file += \"_sorted.png\"\n",
    "\n",
    "    torchvision.utils.save_image(sorted_img, os.path.join(os.path.dirname(img_path), output_file))\n",
    "\n",
    "    vad_sorted_img = compute_vad(sorted_img.permute(1, 2, 0).cpu().numpy() * 255)\n",
    "\n",
    "    print(f\"VAD of image: {vad_img_trunc:.4f}\")\n",
    "    if shuffle:\n",
    "        print(f\"VAD of shuffled image: {vad_img_trunc_shuf:.4f}\")\n",
    "    print(f\"VAD of sorted image: {vad_sorted_img:.4f}\")"
   ]
  },
  {
   "cell_type": "code",
   "execution_count": null,
   "id": "c96c00b0",
   "metadata": {
    "vscode": {
     "languageId": "plaintext"
    }
   },
   "outputs": [],
   "source": []
  }
 ],
 "metadata": {
  "language_info": {
   "name": "python"
  }
 },
 "nbformat": 4,
 "nbformat_minor": 5
}
